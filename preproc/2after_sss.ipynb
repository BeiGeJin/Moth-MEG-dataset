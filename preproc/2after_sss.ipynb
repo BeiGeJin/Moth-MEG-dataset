{
 "cells": [
  {
   "cell_type": "code",
   "execution_count": null,
   "metadata": {},
   "outputs": [],
   "source": [
    "import numpy as np\n",
    "import mne\n",
    "import os, glob\n",
    "import matplotlib.pyplot as plt\n",
    "\n",
    "mne.viz.set_browser_backend(\"matplotlib\")"
   ]
  },
  {
   "cell_type": "markdown",
   "metadata": {},
   "source": [
    "### Set Parameters"
   ]
  },
  {
   "cell_type": "code",
   "execution_count": null,
   "metadata": {},
   "outputs": [],
   "source": [
    "# set parameters\n",
    "SUBJECT = \"C\"\n",
    "SESSION = \"Moth2\"\n",
    "BLOCKS = [\"01\", \"02\", \"03\", \"04\", \"05\", \"06\", \"07\", \"08\"] if SESSION == \"Moth1\" or SESSION == \"Moth4\" else [\"01\", \"02\", \"03\", \"04\", \"05\", \"06\", \"07\"]\n",
    "# LOC_RAW = f\"/project_data/volume0/newmeg/{SESSION}/data/raw/{SUBJECT}/\"\n",
    "LOC_ROOT = f\"/project_data/volume0/jerryjin/moth_meg/{SESSION}/\"\n",
    "LOC_RAW = LOC_ROOT + f\"raw/{SUBJECT}/\"\n",
    "LOC_SSS = LOC_ROOT + f\"sss/{SUBJECT}/\"\n",
    "PLOT = True"
   ]
  },
  {
   "cell_type": "code",
   "execution_count": null,
   "metadata": {},
   "outputs": [],
   "source": [
    "ER_NWINS = 4\n",
    "ER_WINLEN = 10\n",
    "ER_NGRAD = 2\n",
    "ER_NMAG = 2\n",
    "FILT_LFREQ = None\n",
    "FILT_HFREQ = 150\n",
    "NOTCH_FREQS = [60, 120]\n",
    "ECG_METHOD = \"ica\"  # \"self\" or \"first\" or \"ica\" or None\n",
    "EOG_METHOD = \"ica\"  # \"self\" or \"first\" or \"ica\" or None"
   ]
  },
  {
   "cell_type": "code",
   "execution_count": null,
   "metadata": {},
   "outputs": [],
   "source": [
    "# file slug\n",
    "slug = \"\"\n",
    "slug += f\"_er-{ER_NWINS}-{ER_WINLEN}-{ER_NGRAD}-{ER_NMAG}\"\n",
    "if FILT_LFREQ is not None and FILT_HFREQ is not None:\n",
    "    slug += f\"_band-{FILT_LFREQ}-{FILT_HFREQ}\"\n",
    "elif FILT_LFREQ is not None:\n",
    "    slug += f\"_highpass-{FILT_LFREQ}\"\n",
    "elif FILT_HFREQ is not None:\n",
    "    slug += f\"_lowpass-{FILT_HFREQ}\"\n",
    "if NOTCH_FREQS is not None:\n",
    "    slug += f\"_notch-{\"-\".join(map(str, NOTCH_FREQS))}\"\n",
    "if ECG_METHOD is not None:\n",
    "    slug += f\"_ecg-{ECG_METHOD}\"\n",
    "if EOG_METHOD is not None:\n",
    "    slug += f\"_eog-{EOG_METHOD}\"\n",
    "slug"
   ]
  },
  {
   "cell_type": "code",
   "execution_count": null,
   "metadata": {},
   "outputs": [],
   "source": [
    "dir_name = \"sss\" + slug\n",
    "LOC_SAVE = LOC_ROOT + f\"{dir_name}/{SUBJECT}/\"\n",
    "if not os.path.exists(LOC_SAVE):\n",
    "    os.makedirs(LOC_SAVE)"
   ]
  },
  {
   "cell_type": "markdown",
   "metadata": {},
   "source": [
    "### Check Files"
   ]
  },
  {
   "cell_type": "code",
   "execution_count": null,
   "metadata": {},
   "outputs": [],
   "source": [
    "files = sorted(glob.glob(LOC_SSS + \"*.fif\"))\n",
    "files"
   ]
  },
  {
   "cell_type": "code",
   "execution_count": null,
   "metadata": {},
   "outputs": [],
   "source": [
    "# load first recording\n",
    "if ECG_METHOD == \"first\" or EOG_METHOD == \"first\":\n",
    "    first_f = glob.glob(LOC_SSS + f\"*{SUBJECT}_{SESSION}_01*raw.fif\")[0]\n",
    "    first_sss = mne.io.read_raw_fif(first_f)"
   ]
  },
  {
   "cell_type": "markdown",
   "metadata": {},
   "source": [
    "### Run Preprocess"
   ]
  },
  {
   "cell_type": "code",
   "execution_count": null,
   "metadata": {},
   "outputs": [],
   "source": [
    "# load empty room\n",
    "er_f = glob.glob(LOC_SSS + f\"*{SUBJECT}_{SESSION}_EmptyRoom*raw.fif\")[0]\n",
    "er_sss = mne.io.read_raw_fif(er_f, preload=True)\n",
    "\n",
    "# determine intervals\n",
    "n_windows = ER_NWINS\n",
    "window_len = ER_WINLEN\n",
    "er_len = er_sss[0][0].shape[1]\n",
    "center_dist = np.floor(er_len / (1.0 + n_windows))\n",
    "curr_center = center_dist\n",
    "starts = []\n",
    "stops = []\n",
    "for i in range(n_windows):\n",
    "    half_win_len = np.floor(er_sss.info[\"sfreq\"] * window_len * 0.5)\n",
    "    (win_start, win_stop) = (curr_center - half_win_len, curr_center + half_win_len)\n",
    "    win_start = er_sss.times[int(win_start)]\n",
    "    win_stop = er_sss.times[int(win_stop)]\n",
    "    curr_center += center_dist\n",
    "    starts.append(win_start)\n",
    "    stops.append(win_stop)\n",
    "\n",
    "# calculate emptyroom projs\n",
    "er_projs = []\n",
    "for start, stop in zip(starts, stops):\n",
    "    er_projs.extend(mne.compute_proj_raw(er_sss, start=start, stop=stop, n_grad=ER_NGRAD, n_mag=ER_NMAG, verbose=True))"
   ]
  },
  {
   "cell_type": "code",
   "execution_count": null,
   "metadata": {},
   "outputs": [],
   "source": [
    "# define bandpass filter parameters\n",
    "l_trans_bandwidth = 0.5 if FILT_LFREQ is not None and FILT_LFREQ > 0.5 else \"auto\"\n",
    "h_trans_bandwidth = 0.5 if FILT_HFREQ is not None and FILT_HFREQ > 0.5 else \"auto\"\n",
    "bandpass_params = dict(\n",
    "    l_freq=FILT_LFREQ,\n",
    "    h_freq=FILT_HFREQ,\n",
    "    filter_length=\"10s\",\n",
    "    l_trans_bandwidth=l_trans_bandwidth,\n",
    "    h_trans_bandwidth=h_trans_bandwidth,\n",
    "    phase=\"zero-double\",\n",
    "    fir_window=\"hann\",\n",
    "    fir_design=\"firwin2\",\n",
    ")"
   ]
  },
  {
   "cell_type": "code",
   "execution_count": null,
   "metadata": {},
   "outputs": [],
   "source": [
    "# define notch filter parameters\n",
    "notch_params = dict(\n",
    "    freqs=NOTCH_FREQS,\n",
    "    filter_length=\"10s\",\n",
    "    phase=\"zero-double\",\n",
    "    fir_window=\"hann\",\n",
    "    fir_design=\"firwin2\",\n",
    ")"
   ]
  },
  {
   "cell_type": "code",
   "execution_count": null,
   "metadata": {},
   "outputs": [],
   "source": [
    "all_raw_sss = []\n",
    "for BLOCK in BLOCKS:\n",
    "\n",
    "    # load raw data\n",
    "    sss_f = glob.glob(LOC_SSS + f\"*{SUBJECT}_{SESSION}_{BLOCK}*raw.fif\")[0]\n",
    "    raw_sss = mne.io.read_raw_fif(sss_f, preload=True)\n",
    "\n",
    "    # empty room correction\n",
    "    print(\">>Now applying empty room correction...\")\n",
    "    raw_sss.add_proj(er_projs)\n",
    "    raw_sss.apply_proj()\n",
    "\n",
    "    # bandpass filtering\n",
    "    print(\">>Now applying bandpass filtering...\")\n",
    "    raw_sss.filter(**bandpass_params)\n",
    "\n",
    "    # notch filtering\n",
    "    print(\">>Now applying notch filtering...\")\n",
    "    raw_sss.notch_filter(**notch_params)\n",
    "\n",
    "    # heartbeat removal\n",
    "    if ECG_METHOD is not None:\n",
    "\n",
    "        print(\">>Now removing heartbeat artifacts...\")\n",
    "\n",
    "        if ECG_METHOD == \"first\":\n",
    "            # do all the steps for first recording\n",
    "            first_sss_sub = first_sss.copy().load_data()\n",
    "            first_sss_sub.add_proj(er_projs)\n",
    "            first_sss_sub.apply_proj()\n",
    "            first_sss_sub.filter(**bandpass_params, verbose=False)\n",
    "            first_sss_sub.notch_filter(**notch_params, verbose=False)\n",
    "            # compute ecg projs\n",
    "            ecg_projs, _ = mne.preprocessing.compute_proj_ecg(first_sss_sub, average=False)\n",
    "            # save memory\n",
    "            del first_sss_sub\n",
    "            # apply ecg projs\n",
    "            raw_sss.add_proj(ecg_projs)\n",
    "            raw_sss.apply_proj()\n",
    "\n",
    "        elif ECG_METHOD == \"self\":\n",
    "            # compute ecg projs\n",
    "            ecg_projs, _ = mne.preprocessing.compute_proj_ecg(raw_sss, average=False)\n",
    "            # apply ecg projs\n",
    "            raw_sss.add_proj(ecg_projs)\n",
    "            raw_sss.apply_proj()\n",
    "\n",
    "        elif ECG_METHOD == \"ica\":\n",
    "            # load raw data and filter (high-pass filter necessary for ica)\n",
    "            raw_f = glob.glob(LOC_RAW + f\"*{SUBJECT}_{SESSION}_{BLOCK}*raw.fif\")[0]\n",
    "            raw_ica = mne.io.read_raw_fif(raw_f, preload=True, verbose=False).pick([\"meg\", \"ecg\"]).filter(**bandpass_params, verbose=False)\n",
    "            # fit ICA\n",
    "            ica_ecg = mne.preprocessing.ICA(n_components=30, random_state=42)\n",
    "            ica_ecg.fit(raw_ica)\n",
    "            # find ecg components\n",
    "            ecg_indices, ecg_scores = ica_ecg.find_bads_ecg(raw_ica, l_freq=5, h_freq=35)\n",
    "            ica_ecg.exclude = ecg_indices\n",
    "            print(f\"Detect {len(ecg_indices)} ECG components.\")\n",
    "            # plot ica components\n",
    "            if PLOT:\n",
    "                ica_ecg.plot_sources(raw_ica, start=60, stop=80, show_scrollbars=False, picks=np.arange(15))\n",
    "                ica_ecg.plot_sources(raw_ica, start=60, stop=80, show_scrollbars=False, picks=np.arange(15, 30))\n",
    "            # check\n",
    "            # assert len(ecg_indices) < 8  # C-Moth2-01 fails\n",
    "            # apply ICA\n",
    "            ica_ecg.apply(raw_sss)\n",
    "            # save memory\n",
    "            del raw_ica\n",
    "\n",
    "        else:\n",
    "            raise ValueError(\"ECG_METHOD not recognized.\")\n",
    "\n",
    "    # eyeblink removal\n",
    "    if EOG_METHOD is not None:\n",
    "\n",
    "        print(\">>Now removing eyeblink artifacts...\")\n",
    "\n",
    "        if EOG_METHOD == \"first\":\n",
    "            # do all the steps for first recording\n",
    "            first_sss_sub = first_sss.copy().load_data()\n",
    "            first_sss_sub.add_proj(er_projs)\n",
    "            first_sss_sub.apply_proj()\n",
    "            first_sss_sub.filter(**bandpass_params, verbose=False)\n",
    "            first_sss_sub.notch_filter(**notch_params, verbose=False)\n",
    "            ecg_projs, _ = mne.preprocessing.compute_proj_ecg(first_sss_sub, average=False)\n",
    "            first_sss_sub.add_proj(ecg_projs)\n",
    "            first_sss_sub.apply_proj()\n",
    "            # compute eog projs\n",
    "            eog_projs, _ = mne.preprocessing.compute_proj_eog(first_sss_sub, average=False)\n",
    "            # save memory\n",
    "            del first_sss_sub\n",
    "            # apply eog projs\n",
    "            raw_sss.add_proj(eog_projs)\n",
    "            raw_sss.apply_proj()\n",
    "\n",
    "        elif EOG_METHOD == \"self\":\n",
    "            # compute eog projs\n",
    "            eog_projs, _ = mne.preprocessing.compute_proj_eog(raw_sss, average=False)\n",
    "            # apply eog projs\n",
    "            raw_sss.add_proj(eog_projs)\n",
    "            raw_sss.apply_proj()\n",
    "\n",
    "        elif EOG_METHOD == \"ica\":\n",
    "            # load filtered data with only MEG channels\n",
    "            raw_sss_ica = raw_sss.copy().pick([\"meg\", \"eog\"])\n",
    "            # fit ICA\n",
    "            ica_eog = mne.preprocessing.ICA(n_components=30, random_state=42)\n",
    "            ica_eog.fit(raw_sss_ica)\n",
    "            # find eog components\n",
    "            ref_channel = \"EOG002\" if (\"EOG002\" in raw_sss_ica.ch_names) and (\"EOG002\" not in raw_sss_ica.info[\"bads\"]) else \"MEG1213\"\n",
    "            # if SUBJECT == \"C\" and SESSION == \"Moth2\":  # special case where EOG signal is flat\n",
    "            #     ref_channel = \"MEG1213\"\n",
    "            eog_indices, eog_scores = ica_eog.find_bads_eog(raw_sss_ica, ch_name=ref_channel)\n",
    "            ica_eog.exclude = eog_indices\n",
    "            print(f\"Detect {len(eog_indices)} EOG components.\")\n",
    "            # plot ica components\n",
    "            if PLOT:\n",
    "                ica_eog.plot_sources(raw_sss, start=60, stop=80, show_scrollbars=False, picks=np.arange(15))\n",
    "                ica_eog.plot_sources(raw_sss, start=60, stop=80, show_scrollbars=False, picks=np.arange(15, 30))\n",
    "            # check\n",
    "            assert len(eog_indices) < 5\n",
    "            # apply ICA\n",
    "            ica_eog.apply(raw_sss)\n",
    "            # save memory\n",
    "            del raw_sss_ica\n",
    "\n",
    "        else:\n",
    "            raise ValueError(\"EOG_METHOD not recognized.\")\n",
    "\n",
    "    # save\n",
    "    # save_f = os.path.basename(sss_f).replace(\"_raw.fif\", f\"{slug}_raw.fif\")\n",
    "    # raw_sss.save(LOC_SAVE + save_f)\n",
    "\n",
    "    # append to list for plotting\n",
    "    all_raw_sss.append(raw_sss)"
   ]
  },
  {
   "cell_type": "markdown",
   "metadata": {},
   "source": [
    "### Plot"
   ]
  },
  {
   "cell_type": "code",
   "execution_count": null,
   "metadata": {},
   "outputs": [],
   "source": [
    "average = False\n",
    "if PLOT:\n",
    "    for raw_sss, BLOCK in zip(all_raw_sss, BLOCKS):\n",
    "        spectrum = raw_sss.compute_psd()\n",
    "        spectrum.plot(average=average, dB=False, xscale=\"log\")\n",
    "        plt.suptitle(f\"PSD of {SUBJECT}_{SESSION}_{BLOCK}\")\n",
    "        plt.show()"
   ]
  }
 ],
 "metadata": {
  "kernelspec": {
   "display_name": "meg",
   "language": "python",
   "name": "python3"
  },
  "language_info": {
   "codemirror_mode": {
    "name": "ipython",
    "version": 3
   },
   "file_extension": ".py",
   "mimetype": "text/x-python",
   "name": "python",
   "nbconvert_exporter": "python",
   "pygments_lexer": "ipython3",
   "version": "3.12.2"
  }
 },
 "nbformat": 4,
 "nbformat_minor": 2
}
